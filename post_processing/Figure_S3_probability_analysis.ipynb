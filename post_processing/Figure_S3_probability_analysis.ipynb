{
 "cells": [
  {
   "cell_type": "markdown",
   "id": "8ae6ba00",
   "metadata": {},
   "source": [
    "This notebook reproduces Figure S1 from **DeSalvio, N.D. and Rudolph, M.L. (2021). ''A Retrospective Analysis of b-value Changes Preceding Strong Earthquakes''**\n",
    "\n",
    "Here, we generate synthetic *observations* consisting of sets of *foreshocks* and *mainshocks*. We then randomly generate *predictions* that include *foreshocks*, *mainshocks*, *insufficient data*, and *neutral* events. The *neutral* and *insufficient data* cases are assigned a default probability indicative of the rate of occurrence of foreshocks in observed seismicity.\n",
    "\n",
    "The cell below introduces a function that calculates the Matthews Correlation Coefficient for arbitrary vectors of predictions P and observations S."
   ]
  },
  {
   "cell_type": "code",
   "execution_count": 1,
   "id": "early-siemens",
   "metadata": {},
   "outputs": [],
   "source": [
    "import numpy as np\n",
    "import matplotlib.pyplot as plt\n",
    "\n",
    "def calculate_MatthewsC(P,S):\n",
    "    \"\"\"calculate the matthews correlation coefficient.\n",
    "    Expects a vector of predictions P and observations S.\n",
    "    The values in P and S.\n",
    "    P=0 means no larger earthquake earthquake\n",
    "    P=1 means that we predict a larger earthquake\n",
    "    P=.05 means 1/20 chance of a larger earthquake\"\"\"\n",
    "    assert(np.shape(S) == np.shape(P))\n",
    "    sbar = np.mean(S)\n",
    "    pbar = np.mean(P)\n",
    "    if pbar == 0 or sbar == 0 or np.std(S) == 0 or np.std(P) == 0:\n",
    "        return 0\n",
    "    numerator = np.sum((S-sbar)*(P-pbar))\n",
    "    denominator = (np.sum((S-sbar)**2)*np.sum((P-pbar)**2))**0.5\n",
    "    C = numerator/denominator\n",
    "    return C"
   ]
  },
  {
   "cell_type": "markdown",
   "id": "c646fd7a",
   "metadata": {},
   "source": [
    "# M>6 events\n",
    "\n",
    "We consider samples of 22 events. Of the 22 events, we have 11 'insufficient data', 1 true prediction, 7 true non-predictions, and 3 neutral predictions. There were no false positives or negatives in the best-performing case."
   ]
  },
  {
   "cell_type": "code",
   "execution_count": 2,
   "id": "responsible-adelaide",
   "metadata": {},
   "outputs": [],
   "source": [
    "# Distribution of outcomes for the M6+ events\n",
    "nevent = 22;\n",
    "\n",
    "best_MCC_M6 = 0.524 # best value of MCC from Table S1\n",
    "default_mainshock_probability = 0.90\n",
    "P = np.concatenate((default_mainshock_probability*np.ones(11,),\n",
    "                    0*np.ones(1,),\n",
    "                    1*np.ones(9,),\n",
    "                    default_mainshock_probability*np.ones(1,)))\n",
    "\n",
    "# Calculate correlation coefficients for M6+ events\n",
    "prob_true = default_mainshock_probability\n",
    "nreal = 1000000\n",
    "\n",
    "all_S6 = []\n",
    "all_C6 = []\n",
    "ntp_C6 = [] # number of true positive outcomes\n",
    "for i in range(nreal):\n",
    "    all_S6.append( 1.0*(np.random.rand(nevent) < prob_true) )\n",
    "for S in all_S6:\n",
    "    all_C6.append( calculate_MatthewsC(P,S) )\n",
    "    ntp_C6.append(np.sum(np.logical_and(P==0,S==0)))\n",
    "all_C6 = np.array(all_C6)\n",
    "ntp_C6 = np.array(ntp_C6)"
   ]
  },
  {
   "cell_type": "code",
   "execution_count": 3,
   "id": "competitive-upper",
   "metadata": {},
   "outputs": [],
   "source": [
    "# Distribution of outcomes for the M5+ events\n",
    "nreal = nreal+1\n",
    "nevent = 107;\n",
    "\n",
    "best_MCC_M5 = 0.333 # best value of MCC from Table S2\n",
    "# 96 insufficient data, 2 (true) predictions, 4 true non-prediction, 5 neutral predictions, no false positives or negatives.\n",
    "P = np.concatenate((default_mainshock_probability*np.ones(103,),\n",
    "                    0*np.ones(2,),\n",
    "                    1*np.ones(2,),\n",
    "                    default_mainshock_probability*np.ones(0,)))\n",
    "\n",
    "# Calculate correlation coefficients for M6+ events\n",
    "prob_true = default_mainshock_probability\n",
    "\n",
    "all_S5 = []\n",
    "all_C5 = []\n",
    "ntp_C5 = [] # number of true positive outcomes\n",
    "for i in range(nreal):\n",
    "    all_S5.append( 1.0*(np.random.rand(nevent) < prob_true) )\n",
    "for S in all_S5:\n",
    "    all_C5.append( calculate_MatthewsC(P,S) )\n",
    "    ntp_C5.append(np.sum(np.logical_and(P==0,S==0)))\n",
    "all_C5 = np.array(all_C5)\n",
    "ntp_C5 = np.array(ntp_C5)"
   ]
  },
  {
   "cell_type": "markdown",
   "id": "bb9273f7",
   "metadata": {},
   "source": [
    "# Make a figure\n"
   ]
  },
  {
   "cell_type": "code",
   "execution_count": 4,
   "id": "returning-granny",
   "metadata": {},
   "outputs": [
    {
     "name": "stdout",
     "output_type": "stream",
     "text": [
      "Fraction of M6+ outcomes with 1+ true positives and equal or larger MCC:  0.48491839784935453\n",
      "Fraction of M5+ outcomes with 1+ true positives and equal or larger MCC:  0.04799334098979022\n",
      "Fraction of M5+ outcomes with 2+ true positives and equal or larger MCC:  0.8109152139461173\n"
     ]
    },
    {
     "data": {
      "text/plain": [
       "10096"
      ]
     },
     "execution_count": 4,
     "metadata": {},
     "output_type": "execute_result"
    },
    {
     "data": {
      "image/png": "[encoded data removed]",
      "text/plain": [
       "<Figure size 468x180 with 3 Axes>"
      ]
     },
     "metadata": {
      "needs_background": "light"
     },
     "output_type": "display_data"
    }
   ],
   "source": [
    "f,(ax1,ax2,ax3) = plt.subplots(1,3,figsize=(6.5,2.5))\n",
    "bins=np.linspace(-1,1,31)\n",
    "\n",
    "# Plot a histogram for the M6 outcomes, and for M6, requiring 1+ correct prediction\n",
    "ax1.hist(all_C6[ntp_C6>0],bins,density=True,alpha=0.7)\n",
    "ax1.hist(all_C6,bins,density=True,alpha=0.7)\n",
    "\n",
    "ax1.plot([best_MCC_M6,best_MCC_M6],ax1.get_ylim(),'r')\n",
    "ax1.set_xlim([-1,1])\n",
    "ax1.set_xlabel('MCC')\n",
    "ax1.set_title('M≥6, 1 TP')\n",
    "ax1.set_yticks([])\n",
    "\n",
    "# Plot a histogram for the M5 outcomes, and for M5, requiring 1+ correct prediction\n",
    "ax2.hist(all_C5[ntp_C5>0],bins,density=True,alpha=0.7)\n",
    "ax2.hist(all_C5,bins,density=True,alpha=0.7)\n",
    "\n",
    "ax2.plot([best_MCC_M5,best_MCC_M5],ax2.get_ylim(),'r')\n",
    "ax2.set_xlim([-1,1])\n",
    "ax2.set_xlabel('MCC')\n",
    "ax2.set_title('M≥5, 1+ TP')\n",
    "ax2.set_yticks([])\n",
    "\n",
    "# Plot a histogram for the M5 outcomes, and for M5, requiring 2 correct prediction\n",
    "ax3.hist(all_C5[ntp_C5>1],bins,density=True,alpha=0.7)\n",
    "ax3.hist(all_C5,21,density=True,alpha=0.7)\n",
    "\n",
    "ax3.plot([best_MCC_M5,best_MCC_M5],ax3.get_ylim(),'r')\n",
    "ax3.set_xlim([-1,1])\n",
    "ax3.set_xlabel('MCC')\n",
    "ax3.set_title('M≥5, 2 TP')\n",
    "ax3.set_yticks([])\n",
    "\n",
    "plt.tight_layout()\n",
    "plt.savefig('mcc_histogram_figure.svg')\n",
    "\n",
    "nzC6 = all_C6[ntp_C6>0]\n",
    "print('Fraction of M6+ outcomes with 1+ true positives and equal or larger MCC: ',np.count_nonzero(nzC6 > best_MCC_M6)/len(nzC6))\n",
    "\n",
    "nzC5 = all_C5[ntp_C5>0]\n",
    "print('Fraction of M5+ outcomes with 1+ true positives and equal or larger MCC: ',np.count_nonzero(nzC5 > best_MCC_M5)/len(nzC5))\n",
    "\n",
    "nzC5 = all_C5[ntp_C5>1]\n",
    "print('Fraction of M5+ outcomes with 2+ true positives and equal or larger MCC: ',np.count_nonzero(nzC5 > best_MCC_M5)/len(nzC5))\n",
    "\n",
    "np.sum(ntp_C5>1)"
   ]
  }
 ],
 "metadata": {
  "kernelspec": {
   "display_name": "Python 3",
   "language": "python",
   "name": "python3"
  },
  "language_info": {
   "codemirror_mode": {
    "name": "ipython",
    "version": 3
   },
   "file_extension": ".py",
   "mimetype": "text/x-python",
   "name": "python",
   "nbconvert_exporter": "python",
   "pygments_lexer": "ipython3",
   "version": "3.7.7"
  }
 },
 "nbformat": 4,
 "nbformat_minor": 5
}
